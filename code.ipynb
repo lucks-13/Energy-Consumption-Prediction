{
  "cells": [
    {
      "cell_type": "markdown",
      "metadata": {
        "id": "sEZkoFnpY-_i"
      },
      "source": [
        "# Energy Consumption Prediction Analysis\n",
        "\n",
        "This notebook predicts energy consumption based on temperature pattern dataset."
      ]
    },
    {
      "cell_type": "markdown",
      "metadata": {
        "id": "KECy9s2lZc9F"
      },
      "source": [
        "# Import Libraries and Setup\n"
      ]
    },
    {
      "cell_type": "code",
      "execution_count": 1,
      "metadata": {
        "id": "JMLz4103YqSz"
      },
      "outputs": [],
      "source": [
        "import pandas as pd\n",
        "import numpy as np\n",
        "import matplotlib.pyplot as plt\n",
        "import seaborn as sns\n",
        "import warnings\n",
        "from sklearn.model_selection import train_test_split, cross_val_score, RandomizedSearchCV, StratifiedKFold\n",
        "from sklearn.preprocessing import StandardScaler, MinMaxScaler, RobustScaler, PowerTransformer, QuantileTransformer\n",
        "from sklearn.preprocessing import LabelEncoder, OneHotEncoder, PolynomialFeatures\n",
        "from sklearn.linear_model import LinearRegression, Ridge, Lasso, ElasticNet\n",
        "from sklearn.tree import DecisionTreeRegressor\n",
        "from sklearn.ensemble import RandomForestRegressor, GradientBoostingRegressor, AdaBoostRegressor, VotingRegressor, StackingRegressor\n",
        "from sklearn.svm import SVR\n",
        "from sklearn.neighbors import KNeighborsRegressor\n",
        "from sklearn.neural_network import MLPRegressor\n",
        "from sklearn.metrics import mean_squared_error, mean_absolute_error, r2_score, mean_absolute_percentage_error\n",
        "from sklearn.inspection import permutation_importance\n",
        "from scipy import stats\n",
        "from scipy.stats import jarque_bera, normaltest, shapiro\n",
        "from statsmodels.stats.diagnostic import het_white\n",
        "from statsmodels.tsa.seasonal import seasonal_decompose\n",
        "from statsmodels.stats.stattools import durbin_watson\n",
        "import joblib\n",
        "from datetime import datetime, timedelta\n",
        "warnings.filterwarnings('ignore')\n",
        "plt.style.use('seaborn-v0_8')\n",
        "np.random.seed(42)"
      ]
    },
    {
      "cell_type": "markdown",
      "metadata": {
        "id": "z1c9Yns6Zn5W"
      },
      "source": [
        "# Load and Initial Data Exploration"
      ]
    },
    {
      "cell_type": "code",
      "execution_count": 2,
      "metadata": {
        "colab": {
          "base_uri": "https://localhost:8080/"
        },
        "id": "wH4X8bsGZqeX",
        "outputId": "8d1a44a8-26fa-4d56-e6b8-8d9690ab37a8"
      },
      "outputs": [
        {
          "name": "stdout",
          "output_type": "stream",
          "text": [
            "Dataset shape: (3650, 7)\n",
            "Date range: 1981-01-01 00:00:00 to 1990-12-31 00:00:00\n",
            "Missing values: 0\n"
          ]
        }
      ],
      "source": [
        "url = \"https://raw.githubusercontent.com/jbrownlee/Datasets/master/daily-min-temperatures.csv\"\n",
        "df = pd.read_csv(url)\n",
        "df.columns = ['Date', 'Temperature']\n",
        "df['Date'] = pd.to_datetime(df['Date'])\n",
        "df = df.set_index('Date')\n",
        "\n",
        "np.random.seed(42)\n",
        "n_samples = len(df)\n",
        "df['Temperature_C'] = df['Temperature']\n",
        "df['Humidity'] = np.random.normal(65, 15, n_samples).clip(30, 95)\n",
        "df['Wind_Speed'] = np.random.exponential(2, n_samples).clip(0, 15)\n",
        "df['Solar_Radiation'] = np.random.gamma(2, 100, n_samples).clip(0, 800)\n",
        "df['Pressure'] = np.random.normal(1013, 10, n_samples).clip(990, 1030)\n",
        "\n",
        "base_consumption = 1000\n",
        "temp_effect = np.where(df['Temperature_C'] < 10, (10 - df['Temperature_C']) * 50, 0) + \\\n",
        "              np.where(df['Temperature_C'] > 25, (df['Temperature_C'] - 25) * 30, 0)\n",
        "humidity_effect = (df['Humidity'] - 50) * 5\n",
        "wind_effect = -df['Wind_Speed'] * 10\n",
        "solar_effect = -df['Solar_Radiation'] * 0.5\n",
        "pressure_effect = (df['Pressure'] - 1013) * 2\n",
        "\n",
        "df['Energy_Consumption'] = (base_consumption + temp_effect + humidity_effect +\n",
        "                           wind_effect + solar_effect + pressure_effect +\n",
        "                           np.random.normal(0, 50, n_samples)).clip(200, 3000)\n",
        "\n",
        "print(f\"Dataset shape: {df.shape}\")\n",
        "print(f\"Date range: {df.index.min()} to {df.index.max()}\")\n",
        "print(f\"Missing values: {df.isnull().sum().sum()}\")"
      ]
    },
    {
      "cell_type": "markdown",
      "metadata": {
        "id": "Drs1Wrk_anCm"
      },
      "source": [
        "# Statistical Summary"
      ]
    },
    {
      "cell_type": "code",
      "execution_count": 3,
      "metadata": {
        "colab": {
          "base_uri": "https://localhost:8080/"
        },
        "id": "XWf1iNXmanJl",
        "outputId": "aa7d8af1-70e1-4b70-b476-ca43f1ca452e"
      },
      "outputs": [
        {
          "name": "stdout",
          "output_type": "stream",
          "text": [
            "=== STATISTICAL SUMMARY ===\n",
            "       Temperature  Temperature_C     Humidity   Wind_Speed  Solar_Radiation  \\\n",
            "count  3650.000000    3650.000000  3650.000000  3650.000000      3650.000000   \n",
            "mean     11.177753      11.177753    65.295782     1.948622       199.423054   \n",
            "std       4.071837       4.071837    14.507403     1.950444       140.094815   \n",
            "min       0.000000       0.000000    30.000000     0.000454         2.224753   \n",
            "25%       8.300000       8.300000    55.259763     0.557150        96.937294   \n",
            "50%      11.000000      11.000000    65.328332     1.325376       166.379532   \n",
            "75%      14.000000      14.000000    75.200923     2.700529       268.820587   \n",
            "max      26.300000      26.300000    95.000000    15.000000       800.000000   \n",
            "\n",
            "          Pressure  Energy_Consumption  \n",
            "count  3650.000000         3650.000000  \n",
            "mean   1013.008130         1013.825009  \n",
            "std       9.557315          148.377453  \n",
            "min     990.000000          483.715182  \n",
            "25%    1006.222143          917.731686  \n",
            "50%    1013.444084         1005.838119  \n",
            "75%    1020.040003         1100.070214  \n",
            "max    1030.000000         1731.282190  \n",
            "\n",
            "=== DATA TYPES ===\n",
            "Temperature           float64\n",
            "Temperature_C         float64\n",
            "Humidity              float64\n",
            "Wind_Speed            float64\n",
            "Solar_Radiation       float64\n",
            "Pressure              float64\n",
            "Energy_Consumption    float64\n",
            "dtype: object\n",
            "\n",
            "=== CORRELATION MATRIX ===\n",
            "                    Temperature  Temperature_C  Humidity  Wind_Speed  \\\n",
            "Temperature               1.000          1.000    -0.010       0.015   \n",
            "Temperature_C             1.000          1.000    -0.010       0.015   \n",
            "Humidity                 -0.010         -0.010     1.000       0.013   \n",
            "Wind_Speed                0.015          0.015     0.013       1.000   \n",
            "Solar_Radiation           0.000          0.000     0.016       0.036   \n",
            "Pressure                  0.011          0.011     0.003      -0.016   \n",
            "Energy_Consumption       -0.500         -0.500     0.491      -0.146   \n",
            "\n",
            "                    Solar_Radiation  Pressure  Energy_Consumption  \n",
            "Temperature                   0.000     0.011              -0.500  \n",
            "Temperature_C                 0.000     0.011              -0.500  \n",
            "Humidity                      0.016     0.003               0.491  \n",
            "Wind_Speed                    0.036    -0.016              -0.146  \n",
            "Solar_Radiation               1.000     0.011              -0.456  \n",
            "Pressure                      0.011     1.000               0.108  \n",
            "Energy_Consumption           -0.456     0.108               1.000  \n"
          ]
        }
      ],
      "source": [
        "print(\"=== STATISTICAL SUMMARY ===\")\n",
        "print(df.describe())\n",
        "print(\"\\n=== DATA TYPES ===\")\n",
        "print(df.dtypes)\n",
        "print(\"\\n=== CORRELATION MATRIX ===\")\n",
        "correlation_matrix = df.corr()\n",
        "print(correlation_matrix.round(3))"
      ]
    },
    {
      "cell_type": "markdown",
      "metadata": {
        "id": "XcCXuFn0a1_H"
      },
      "source": [
        "# Feature Engineering\n"
      ]
    },
    {
      "cell_type": "code",
      "execution_count": 4,
      "metadata": {
        "colab": {
          "base_uri": "https://localhost:8080/"
        },
        "id": "UZ-UDk2_a9VZ",
        "outputId": "48c65de1-e66b-42fe-ea67-7ff74b4a2abf"
      },
      "outputs": [
        {
          "name": "stdout",
          "output_type": "stream",
          "text": [
            "Feature engineering completed. New shape: (3650, 28)\n"
          ]
        }
      ],
      "source": [
        "df_features = df.copy()\n",
        "df_features['Month'] = df_features.index.month\n",
        "df_features['Day_of_Year'] = df_features.index.dayofyear\n",
        "df_features['Quarter'] = df_features.index.quarter\n",
        "df_features['Year'] = df_features.index.year\n",
        "df_features['Week_of_Year'] = df_features.index.isocalendar().week\n",
        "df_features['Day_of_Week'] = df_features.index.dayofweek\n",
        "df_features['Is_Weekend'] = (df_features['Day_of_Week'] >= 5).astype(int)\n",
        "\n",
        "df_features['Season'] = df_features['Month'].map({12: 'Winter', 1: 'Winter', 2: 'Winter',\n",
        "                                                 3: 'Spring', 4: 'Spring', 5: 'Spring',\n",
        "                                                 6: 'Summer', 7: 'Summer', 8: 'Summer',\n",
        "                                                 9: 'Autumn', 10: 'Autumn', 11: 'Autumn'})\n",
        "\n",
        "df_features['Temp_Category'] = pd.cut(df_features['Temperature_C'],\n",
        "                                     bins=[-np.inf, 5, 15, 25, np.inf],\n",
        "                                     labels=['Cold', 'Cool', 'Moderate', 'Hot'])\n",
        "\n",
        "df_features['Temp_Humidity_Interaction'] = df_features['Temperature_C'] * df_features['Humidity']\n",
        "df_features['Wind_Solar_Interaction'] = df_features['Wind_Speed'] * df_features['Solar_Radiation']\n",
        "df_features['Pressure_Temp_Interaction'] = df_features['Pressure'] * df_features['Temperature_C']\n",
        "\n",
        "df_features['Temperature_Squared'] = df_features['Temperature_C'] ** 2\n",
        "df_features['Humidity_Squared'] = df_features['Humidity'] ** 2\n",
        "df_features['Wind_Speed_Sqrt'] = np.sqrt(df_features['Wind_Speed'])\n",
        "\n",
        "df_features['Temp_MA_7'] = df_features['Temperature_C'].rolling(window=7, min_periods=1).mean()\n",
        "df_features['Temp_MA_30'] = df_features['Temperature_C'].rolling(window=30, min_periods=1).mean()\n",
        "df_features['Energy_MA_7'] = df_features['Energy_Consumption'].rolling(window=7, min_periods=1).mean()\n",
        "\n",
        "df_features['Temp_Lag_1'] = df_features['Temperature_C'].shift(1)\n",
        "df_features['Temp_Lag_7'] = df_features['Temperature_C'].shift(7)\n",
        "df_features['Energy_Lag_1'] = df_features['Energy_Consumption'].shift(1)\n",
        "\n",
        "print(f\"Feature engineering completed. New shape: {df_features.shape}\")"
      ]
    }
  ],
  "metadata": {
    "colab": {
      "provenance": []
    },
    "kernelspec": {
      "display_name": "Python 3",
      "name": "python3"
    },
    "language_info": {
      "name": "python"
    }
  },
  "nbformat": 4,
  "nbformat_minor": 0
}
