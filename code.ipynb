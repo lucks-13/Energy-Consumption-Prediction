{
  "nbformat": 4,
  "nbformat_minor": 0,
  "metadata": {
    "colab": {
      "provenance": []
    },
    "kernelspec": {
      "name": "python3",
      "display_name": "Python 3"
    },
    "language_info": {
      "name": "python"
    }
  },
  "cells": [
    {
      "cell_type": "markdown",
      "source": [
        "# Energy Consumption Prediction Analysis\n",
        "\n",
        "This notebook predicts energy consumption based on temperature pattern dataset."
      ],
      "metadata": {
        "id": "sEZkoFnpY-_i"
      }
    },
    {
      "cell_type": "markdown",
      "source": [
        "# Import Libraries and Setup\n"
      ],
      "metadata": {
        "id": "KECy9s2lZc9F"
      }
    },
    {
      "cell_type": "code",
      "execution_count": 1,
      "metadata": {
        "id": "JMLz4103YqSz"
      },
      "outputs": [],
      "source": [
        "import pandas as pd\n",
        "import numpy as np\n",
        "import matplotlib.pyplot as plt\n",
        "import seaborn as sns\n",
        "import warnings\n",
        "from sklearn.model_selection import train_test_split, cross_val_score, RandomizedSearchCV, StratifiedKFold\n",
        "from sklearn.preprocessing import StandardScaler, MinMaxScaler, RobustScaler, PowerTransformer, QuantileTransformer\n",
        "from sklearn.preprocessing import LabelEncoder, OneHotEncoder, PolynomialFeatures\n",
        "from sklearn.linear_model import LinearRegression, Ridge, Lasso, ElasticNet\n",
        "from sklearn.tree import DecisionTreeRegressor\n",
        "from sklearn.ensemble import RandomForestRegressor, GradientBoostingRegressor, AdaBoostRegressor, VotingRegressor, StackingRegressor\n",
        "from sklearn.svm import SVR\n",
        "from sklearn.neighbors import KNeighborsRegressor\n",
        "from sklearn.neural_network import MLPRegressor\n",
        "from sklearn.metrics import mean_squared_error, mean_absolute_error, r2_score, mean_absolute_percentage_error\n",
        "from sklearn.inspection import permutation_importance\n",
        "from scipy import stats\n",
        "from scipy.stats import jarque_bera, normaltest, shapiro\n",
        "from statsmodels.stats.diagnostic import het_white\n",
        "from statsmodels.tsa.seasonal import seasonal_decompose\n",
        "from statsmodels.stats.stattools import durbin_watson\n",
        "import joblib\n",
        "from datetime import datetime, timedelta\n",
        "warnings.filterwarnings('ignore')\n",
        "plt.style.use('seaborn-v0_8')\n",
        "np.random.seed(42)"
      ]
    },
    {
      "cell_type": "markdown",
      "source": [
        "# Load and Initial Data Exploration"
      ],
      "metadata": {
        "id": "z1c9Yns6Zn5W"
      }
    },
    {
      "cell_type": "code",
      "source": [
        "url = \"https://raw.githubusercontent.com/jbrownlee/Datasets/master/daily-min-temperatures.csv\"\n",
        "df = pd.read_csv(url)\n",
        "df.columns = ['Date', 'Temperature']\n",
        "df['Date'] = pd.to_datetime(df['Date'])\n",
        "df = df.set_index('Date')\n",
        "\n",
        "np.random.seed(42)\n",
        "n_samples = len(df)\n",
        "df['Temperature_C'] = df['Temperature']\n",
        "df['Humidity'] = np.random.normal(65, 15, n_samples).clip(30, 95)\n",
        "df['Wind_Speed'] = np.random.exponential(2, n_samples).clip(0, 15)\n",
        "df['Solar_Radiation'] = np.random.gamma(2, 100, n_samples).clip(0, 800)\n",
        "df['Pressure'] = np.random.normal(1013, 10, n_samples).clip(990, 1030)\n",
        "\n",
        "base_consumption = 1000\n",
        "temp_effect = np.where(df['Temperature_C'] < 10, (10 - df['Temperature_C']) * 50, 0) + \\\n",
        "              np.where(df['Temperature_C'] > 25, (df['Temperature_C'] - 25) * 30, 0)\n",
        "humidity_effect = (df['Humidity'] - 50) * 5\n",
        "wind_effect = -df['Wind_Speed'] * 10\n",
        "solar_effect = -df['Solar_Radiation'] * 0.5\n",
        "pressure_effect = (df['Pressure'] - 1013) * 2\n",
        "\n",
        "df['Energy_Consumption'] = (base_consumption + temp_effect + humidity_effect +\n",
        "                           wind_effect + solar_effect + pressure_effect +\n",
        "                           np.random.normal(0, 50, n_samples)).clip(200, 3000)\n",
        "\n",
        "print(f\"Dataset shape: {df.shape}\")\n",
        "print(f\"Date range: {df.index.min()} to {df.index.max()}\")\n",
        "print(f\"Missing values: {df.isnull().sum().sum()}\")"
      ],
      "metadata": {
        "colab": {
          "base_uri": "https://localhost:8080/"
        },
        "id": "wH4X8bsGZqeX",
        "outputId": "cefcd0d5-ed64-4c64-ff89-15942e4db271"
      },
      "execution_count": 2,
      "outputs": [
        {
          "output_type": "stream",
          "name": "stdout",
          "text": [
            "Dataset shape: (3650, 7)\n",
            "Date range: 1981-01-01 00:00:00 to 1990-12-31 00:00:00\n",
            "Missing values: 0\n"
          ]
        }
      ]
    }
  ]
}